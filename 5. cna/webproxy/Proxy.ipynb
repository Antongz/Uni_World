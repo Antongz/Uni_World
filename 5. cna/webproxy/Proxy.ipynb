{
 "cells": [
  {
   "cell_type": "code",
   "execution_count": 29,
   "metadata": {},
   "outputs": [
    {
     "name": "stdout",
     "output_type": "stream",
     "text": [
      "Connected socket\n",
      "socket binded to 9000\n",
      "Port is bound\n",
      "Listening to socket\n",
      "Waiting connection...\n",
      "Got connection from ('169.254.19.58', 61164)\n",
      "C:\\Users\\Diana\\cna\\untitled_9.pdf\n",
      "Waiting connection...\n",
      "Failed to accept connection\n"
     ]
    },
    {
     "ename": "SystemExit",
     "evalue": "",
     "output_type": "error",
     "traceback": [
      "An exception has occurred, use %tb to see the full traceback.\n",
      "\u001b[1;31mSystemExit\u001b[0m\n"
     ]
    }
   ],
   "source": [
    "#%%writefile Proxy.py\n",
    "\n",
    "# Include the libraries for socket and system calls\n",
    "import sys\n",
    "import socket\n",
    "import os\n",
    "import argparse\n",
    "import re\n",
    "\n",
    "# 1MB buffer size\n",
    "BUFFER_SIZE = 1000000\n",
    "\n",
    "#parser = argparse.ArgumentParser()\n",
    "#parser.add_argument('hostname', help='the IP Address Of Proxy Server')\n",
    "#parser.add_argument('port', help='the port number of the proxy server')\n",
    "#args = parser.parse_args()\n",
    "\n",
    "# Create a server socket, bind it to a port and start listening\n",
    "# The server IP is in args.hostname and the port is in args.port\n",
    "# bind() accepts an integer only\n",
    "# You can use int(string) to convert a string to an integer\n",
    "server_port = 9000\n",
    "host = socket.gethostname()\n",
    "#server socket\n",
    "try:\n",
    "  # Create a server socket\n",
    "    clientSocket = socket.socket()    \n",
    "    print 'Connected socket'\n",
    "except:\n",
    "    print 'Failed to create socket'\n",
    "    sys.exit()\n",
    "\n",
    "try:\n",
    "  # Bind the the server socket to a host and port\n",
    "    clientSocket.bind((host, server_port))\n",
    "    print \"socket binded to %s\" %(server_port) \n",
    "    print 'Port is bound'\n",
    "except:\n",
    "    print 'Port is in use'\n",
    "    sys.exit()\n",
    "\n",
    "try:\n",
    "    # Listen on the server socket\n",
    "    clientSocket.listen(5)\n",
    "    print 'Listening to socket'\n",
    "        \n",
    "except:\n",
    "    print 'Failed to listen'\n",
    "    sys.exit()\n",
    "        \n",
    "while True:\n",
    "\n",
    "    print 'Waiting connection...'\n",
    "    #clientSocket = None\n",
    "    try:\n",
    "        # Accept connection from client and store in the clientSocket\n",
    "        c, addr = clientSocket.accept()      \n",
    "        print 'Got connection from', addr\n",
    "        #print 'Received a connection from:', args.hostname\n",
    "    except:\n",
    "        print 'Failed to accept connection'\n",
    "        sys.exit()\n",
    "    \n",
    "    \n",
    "    reqFile = c.recv(1024)\n",
    "    print reqFile\n",
    "    with open(reqFile, 'rb') as file_to_send:\n",
    "        for data in file_to_send:\n",
    "            c.sendall(data)\n",
    "    \n",
    "    c.close()\n",
    "    c.send('Thank you for connecting')     \n",
    "    clientSocket.close() \n"
   ]
  },
  {
   "cell_type": "code",
   "execution_count": null,
   "metadata": {
    "collapsed": true
   },
   "outputs": [],
   "source": []
  },
  {
   "cell_type": "code",
   "execution_count": 17,
   "metadata": {},
   "outputs": [
    {
     "name": "stdout",
     "output_type": "stream",
     "text": [
      "Received request:\n",
      "< METHOD URI VERSION\n",
      "Method:\t\tMETHOD\n",
      "URI:\t\tURI\n",
      "Version:\tVERSION\n",
      "\n"
     ]
    }
   ],
   "source": [
    "message = 'METHOD URI VERSION'\n",
    "# Get request from client\n",
    "# and store it in message\n",
    "# ~~~~ INSERT CODE ~~~~\n",
    "# ~~~~ END CODE INSERT ~~~~\n",
    "\n",
    "print 'Received request:'\n",
    "print '< ' + message\n",
    "\n",
    "# Extract the parts of the HTTP request line from the given message\n",
    "requestParts = message.split()\n",
    "method = requestParts[0]\n",
    "URI = requestParts[1]\n",
    "version = requestParts[2]\n",
    "\n",
    "print 'Method:\\t\\t' + method\n",
    "print 'URI:\\t\\t' + URI\n",
    "print 'Version:\\t' + version\n",
    "print ''\n",
    "\n",
    "# Remove http protocol from the URI\n",
    "URI = re.sub('^(/?)http(s?)://', '', URI, 1)\n",
    "\n",
    "# Remove parent directory changes - security\n",
    "URI = URI.replace('/..', '')\n",
    "\n",
    "# Split hostname from resource\n",
    "resourceParts = URI.split('/', 1)\n",
    "hostname = resourceParts[0]\n",
    "resource = '/'\n"
   ]
  },
  {
   "cell_type": "code",
   "execution_count": 4,
   "metadata": {},
   "outputs": [
    {
     "name": "stdout",
     "output_type": "stream",
     "text": [
      "Writing ProxyClient.py\n"
     ]
    }
   ],
   "source": [
    "%%writefile ProxyClient.py\n",
    "\n",
    "if len(resourceParts) == 2:\n",
    "    # Resource is absolute URI with hostname and resource\n",
    "    resource = resource + resourceParts[1]\n",
    "\n",
    "    print 'Requested Resource:\\t' + resource\n",
    "\n",
    "    cacheLocation = './' + hostname + resource\n",
    "    if cacheLocation.endswith('/'):\n",
    "        cacheLocation = cacheLocation + 'default'\n",
    "        print 'Cache location:\\t\\t' + cacheLocation\n",
    "        fileExists = os.path.isfile(cacheLocation)\n",
    "  \n",
    "    try:\n",
    "        # Check wether the file exist in the cache\n",
    "        cacheFile = open(cacheLocation, \"r\")\n",
    "        outputdata = cacheFile.readlines()\n",
    "\n",
    "        print 'Cache hit! Loading from cache file: ' + cacheLocation\n",
    "        # ProxyServer finds a cache hit\n",
    "        # Send back contents of cached file\n",
    "        # ~~~~ INSERT CODE ~~~~\n",
    "        # ~~~~ END CODE INSERT ~~~~\n",
    "\n",
    "        cacheFile.close()\n",
    "\n",
    "    # Error handling for file not found in cache\n",
    "    except IOError:\n",
    "        if fileExists:\n",
    "            clientResponse = ''\n",
    "            # If we get here, the file exists but the proxy can't open or read it\n",
    "            # What would be the appropriate status code and message to send to client?\n",
    "            # store the value in clientResponse\n",
    "            # ~~~~ INSERT CODE ~~~~\n",
    "            # ~~~~ END CODE INSERT ~~~~\n",
    "\n",
    "            print 'Sending to the client:'\n",
    "            print '> ' + clientResponse\n",
    "            print '>'\n",
    "            clientSocket.sendall(clientResponse + \"\\r\\n\\r\\n\")\n",
    "\n",
    "else:\n",
    "    originServerSocket = None\n",
    "    # Create a socket to connect to origin server\n",
    "    # and store in originServerSocket\n",
    "\n",
    "    #client socket\n",
    "    try:\n",
    "      # Create a server socket\n",
    "        s = socket.socket(socket.AF_INET, socket.SOCK_STREAM) \n",
    "        print 'Connecting to:\\t\\t' + hostname + '\\n'\n",
    "    except:\n",
    "        print 'Failed to create socket'\n",
    "        #sys.exit()\n",
    "\n",
    "    try:\n",
    "        # Get the IP address for a hostname\n",
    "        address = socket.gethostbyname(hostname)\n",
    "        port_num = int(port)\n",
    "        \n",
    "        # Connect to the origin server\n",
    "        s.connect((address, port_num))\n",
    "        print 'Connected socket'\n",
    "        print 'on port == %s' %(host_ip)\n",
    "        #print s.recv(1024)\n",
    "\n",
    "        print 'Connected to origin Server'\n",
    "        s.close()"
   ]
  },
  {
   "cell_type": "code",
   "execution_count": 16,
   "metadata": {},
   "outputs": [
    {
     "ename": "NameError",
     "evalue": "name 'originServerSocket' is not defined",
     "output_type": "error",
     "traceback": [
      "\u001b[1;31m---------------------------------------------------------------------------\u001b[0m",
      "\u001b[1;31mNameError\u001b[0m                                 Traceback (most recent call last)",
      "\u001b[1;32m<ipython-input-16-2bffb9e51d33>\u001b[0m in \u001b[0;36masync-def-wrapper\u001b[1;34m()\u001b[0m\n\u001b[0;32m      4\u001b[0m \u001b[1;33m\u001b[0m\u001b[0m\n\u001b[0;32m      5\u001b[0m         \u001b[0moriginServerRequest\u001b[0m \u001b[1;33m=\u001b[0m \u001b[1;34m''\u001b[0m\u001b[1;33m\u001b[0m\u001b[1;33m\u001b[0m\u001b[0m\n\u001b[1;32m----> 6\u001b[1;33m         \u001b[0moriginServerRequestHeader\u001b[0m \u001b[1;33m=\u001b[0m \u001b[1;34m''\u001b[0m\u001b[1;33m\u001b[0m\u001b[1;33m\u001b[0m\u001b[0m\n\u001b[0m\u001b[0;32m      7\u001b[0m         \u001b[1;31m# Create origin server request line and headers to send\u001b[0m\u001b[1;33m\u001b[0m\u001b[1;33m\u001b[0m\u001b[1;33m\u001b[0m\u001b[0m\n\u001b[0;32m      8\u001b[0m         \u001b[1;31m# and store in originServerRequestHeader and originServerRequest\u001b[0m\u001b[1;33m\u001b[0m\u001b[1;33m\u001b[0m\u001b[1;33m\u001b[0m\u001b[0m\n",
      "\u001b[1;31mNameError\u001b[0m: name 'originServerSocket' is not defined"
     ]
    }
   ],
   "source": [
    "# Create a file object associated with this socket\n",
    "        # This lets us use file function calls\n",
    "        originServerFileObj = originServerSocket.makefile('+', 0)\n",
    "\n",
    "        originServerRequest = ''\n",
    "        originServerRequestHeader = ''\n",
    "        # Create origin server request line and headers to send\n",
    "        # and store in originServerRequestHeader and originServerRequest\n",
    "        # originServerRequest is the first line in the request and\n",
    "        # originServerRequestHeader is the second line in the request\n",
    "        # ~~~~ INSERT CODE ~~~~\n",
    "        # ~~~~ END CODE INSERT ~~~~\n",
    "\n",
    "        # Construct the request to send to the origin server\n",
    "        request = originServerRequest + '\\r\\n' + originServerRequestHeader + '\\r\\n\\r\\n'\n",
    "\n",
    "        "
   ]
  },
  {
   "cell_type": "code",
   "execution_count": 17,
   "metadata": {},
   "outputs": [
    {
     "ename": "IndentationError",
     "evalue": "unexpected indent (<ipython-input-17-7d7893119b3c>, line 2)",
     "output_type": "error",
     "traceback": [
      "\u001b[1;36m  File \u001b[1;32m\"<ipython-input-17-7d7893119b3c>\"\u001b[1;36m, line \u001b[1;32m2\u001b[0m\n\u001b[1;33m    print 'Forwarding request to origin server:'\u001b[0m\n\u001b[1;37m    ^\u001b[0m\n\u001b[1;31mIndentationError\u001b[0m\u001b[1;31m:\u001b[0m unexpected indent\n"
     ]
    }
   ],
   "source": [
    "# Request the web resource from origin server\n",
    "        print 'Forwarding request to origin server:'\n",
    "        for line in request.split('\\r\\n'):\n",
    "          print '> ' + line\n",
    "\n",
    "        try:\n",
    "          originServerSocket.sendall(request)\n",
    "        except socket.error:\n",
    "          print 'Send failed'\n",
    "          sys.exit()\n",
    "\n",
    "        originServerFileObj.write(request)\n",
    "\n",
    "        # Get the response from the origin server\n",
    "        # ~~~~ INSERT CODE ~~~~\n",
    "        # ~~~~ END CODE INSERT ~~~~\n",
    "\n",
    "        # Send the response to the client\n",
    "        # ~~~~ INSERT CODE ~~~~\n",
    "        # ~~~~ END CODE INSERT ~~~~\n",
    "\n",
    "        # finished sending to origin server - shutdown socket writes\n",
    "        originServerSocket.shutdown(socket.SHUT_WR)\n",
    "\n",
    "        print 'Request sent to origin server\\n'\n",
    "\n",
    "        "
   ]
  },
  {
   "cell_type": "code",
   "execution_count": 19,
   "metadata": {},
   "outputs": [
    {
     "ename": "IndentationError",
     "evalue": "unindent does not match any outer indentation level (<tokenize>, line 20)",
     "output_type": "error",
     "traceback": [
      "\u001b[1;36m  File \u001b[1;32m\"<tokenize>\"\u001b[1;36m, line \u001b[1;32m20\u001b[0m\n\u001b[1;33m    except IOError, (value, message):\u001b[0m\n\u001b[1;37m    ^\u001b[0m\n\u001b[1;31mIndentationError\u001b[0m\u001b[1;31m:\u001b[0m unindent does not match any outer indentation level\n"
     ]
    }
   ],
   "source": [
    "# Create a new file in the cache for the requested file.\n",
    "        # Also send the response in the buffer to client socket\n",
    "        # and the corresponding file in the cache\n",
    "        cacheDir, file = os.path.split(cacheLocation)\n",
    "        print 'cached directory ' + cacheDir\n",
    "        if not os.path.exists(cacheDir):\n",
    "          os.makedirs(cacheDir)\n",
    "        cacheFile = open(cacheLocation, 'wb')\n",
    "\n",
    "        # Save orogin server response in the cache file\n",
    "        # ~~~~ INSERT CODE ~~~~\n",
    "        # ~~~~ END CODE INSERT ~~~~\n",
    "\n",
    "        print 'done sending'\n",
    "        originServerSocket.close()\n",
    "        cacheFile.close()\n",
    "        print 'cache file closed'\n",
    "        clientSocket.shutdown(socket.SHUT_WR)\n",
    "        print 'client socket shutdown for writing'\n",
    "      except IOError, (value, message):\n",
    "        print 'origin server request failed. ' + message\n",
    "\n",
    "  try:\n",
    "    clientSocket.close()\n",
    "  except:\n",
    "    print 'Failed to close client socket'"
   ]
  }
 ],
 "metadata": {
  "kernelspec": {
   "display_name": "Python 3",
   "language": "python",
   "name": "python3"
  },
  "language_info": {
   "codemirror_mode": {
    "name": "ipython",
    "version": 3
   },
   "file_extension": ".py",
   "mimetype": "text/x-python",
   "name": "python",
   "nbconvert_exporter": "python",
   "pygments_lexer": "ipython3",
   "version": "3.6.8"
  }
 },
 "nbformat": 4,
 "nbformat_minor": 2
}
