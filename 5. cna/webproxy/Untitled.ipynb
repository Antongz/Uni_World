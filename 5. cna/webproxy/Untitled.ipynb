{
 "cells": [
  {
   "cell_type": "code",
   "execution_count": null,
   "metadata": {},
   "outputs": [
    {
     "name": "stdout",
     "output_type": "stream",
     "text": [
      "Connected socket\n",
      "HTTP/1.1 301 Moved Permanently\r\n",
      "Location: http://www.google.com/\r\n",
      "Content-Type: text/html; charset=UTF-8\r\n",
      "Date: Sun, 24 Mar 2019 22:30:40 GMT\r\n",
      "Expires: Tue, 23 Apr 2019 22:30:40 GMT\r\n",
      "Cache-Control: public, max-age=2592000\r\n",
      "Server: gws\r\n",
      "Content-Length: 219\r\n",
      "X-XSS-Protection: 1; mode=block\r\n",
      "X-Frame-Options: SAMEORIGIN\r\n",
      "\r\n",
      "<HTML><HEAD><meta http-equiv=\"content-type\" content=\"text/html;charset=utf-8\">\n",
      "<TITLE>301 Moved</TITLE></HEAD><BODY>\n",
      "<H1>301 Moved</H1>\n",
      "The document has moved\n",
      "<A HREF=\"http://www.google.com/\">here</A>.\r\n",
      "</BODY></HTML>\r\n",
      "\n"
     ]
    }
   ],
   "source": [
    "# Include the libraries for socket and system calls\n",
    "import sys\n",
    "import socket\n",
    "import os\n",
    "import argparse\n",
    "import re\n",
    "\n",
    "#client socket\n",
    "try:\n",
    "    # Create a server socket\n",
    "    s = socket.socket(socket.AF_INET, socket.SOCK_STREAM) \n",
    "    s.connect(('google.com', 80))\n",
    "    print 'Connected socket'\n",
    "    request = b'GET google.com HTTP/1.1\\n\\n'\n",
    "    s.send(request)\n",
    "    result = s.recv(4096)\n",
    "    while (len(result) > 0):\n",
    "        print(result)\n",
    "        result = s.recv(10000)\n",
    "    s.close() \n",
    "except:\n",
    "    print 'Failed to create socket'\n",
    "    #sys.exit()"
   ]
  },
  {
   "cell_type": "code",
   "execution_count": 14,
   "metadata": {},
   "outputs": [
    {
     "name": "stdout",
     "output_type": "stream",
     "text": [
      "Connected socket\n",
      "\n"
     ]
    }
   ],
   "source": [
    "# Include the libraries for socket and system calls\n",
    "import sys\n",
    "import socket\n",
    "import os\n",
    "import argparse\n",
    "import re\n",
    "\n",
    "#client socket\n",
    "try:\n",
    "    # Create a server socket\n",
    "    s = socket.socket(socket.AF_INET, socket.SOCK_STREAM) \n",
    "    #s.connect((host_ip, port_num))\n",
    "    s.connect(('google.com', 443))\n",
    "    print 'Connected socket'\n",
    "    request = b'GET google.com HTTP/1.1\\n\\n'\n",
    "    #s.sendall(\"GET / HTTP/1.1\\r\\n\")\n",
    "    s.send(request)\n",
    "    print(s.recv(4096).decode())\n",
    "    #result = s.recv(1024)\n",
    "    #while (len(result) > 0):\n",
    "    #    print(result)\n",
    "    #    result = s.recv(10000)\n",
    "    s.close() \n",
    "except:\n",
    "    print 'Failed to create socket'\n",
    "    #sys.exit()"
   ]
  },
  {
   "cell_type": "code",
   "execution_count": null,
   "metadata": {
    "collapsed": true
   },
   "outputs": [],
   "source": [
    "# Include the libraries for socket and system calls\n",
    "import sys\n",
    "import socket\n",
    "import os\n",
    "import argparse\n",
    "import re\n",
    "\n",
    "port = '9000'\n",
    "host_ip = socket.gethostbyname('DESKTOP-3MK2N93')\n",
    "print 'LocalHost DESKTOP-3MK2N93 IP: ', host_ip\n",
    "\n",
    "port_num = int(port)\n",
    "\n",
    "#client socket\n",
    "try:\n",
    "    # Create a server socket\n",
    "    s = socket.socket(socket.AF_INET, socket.SOCK_STREAM) \n",
    "    s.connect((host_ip, port_num))\n",
    "    print 'Connected socket'\n",
    "    print 'on port == %s' %(port_num)\n",
    "    #s.sendall(\"GET / HTTP/1.1\\r\\n\")\n",
    "    #print s.recv(1024)\n",
    "    #result = s.recv(1024)\n",
    "    #while (len(result) > 0):\n",
    "    #    print(result)\n",
    "    #    result = s.recv(10000)\n",
    "except:\n",
    "    print 'Failed to create socket'\n",
    "    #sys.exit()\n",
    "\n",
    "filepathserver = 'C:\\\\Users\\\\Diana\\\\cna\\\\untitled_9.pdf'\n",
    "filedir = 'C:\\\\Users\\\\Diana'\n",
    "filename = 'untitled_9.pdf'\n",
    "\n",
    "try:\n",
    "    s.send(filepathserver)\n",
    "    with open(os.path.join(filedir, filename), 'wb') as file_to_write:\n",
    "        while True:\n",
    "            data = s.recv(1024)\n",
    "            if not data:\n",
    "                break\n",
    "            file_to_write.write(data)\n",
    "        file_to_write.close()\n",
    "except:\n",
    "    print 'Failed to send'\n",
    "    \n",
    "s.close() "
   ]
  }
 ],
 "metadata": {
  "kernelspec": {
   "display_name": "Python 3",
   "language": "python",
   "name": "python3"
  },
  "language_info": {
   "codemirror_mode": {
    "name": "ipython",
    "version": 3
   },
   "file_extension": ".py",
   "mimetype": "text/x-python",
   "name": "python",
   "nbconvert_exporter": "python",
   "pygments_lexer": "ipython3",
   "version": "3.6.8"
  }
 },
 "nbformat": 4,
 "nbformat_minor": 2
}
